{
  "nbformat": 4,
  "nbformat_minor": 0,
  "metadata": {
    "colab": {
      "provenance": [],
      "authorship_tag": "ABX9TyNbs3AFsub9S40cqlGHg/eb",
      "include_colab_link": true
    },
    "kernelspec": {
      "name": "python3",
      "display_name": "Python 3"
    },
    "language_info": {
      "name": "python"
    }
  },
  "cells": [
    {
      "cell_type": "markdown",
      "metadata": {
        "id": "view-in-github",
        "colab_type": "text"
      },
      "source": [
        "<a href=\"https://colab.research.google.com/github/Guerrieri-vix/Guerrieri-vix/blob/main/Untitled1.ipynb\" target=\"_parent\"><img src=\"https://colab.research.google.com/assets/colab-badge.svg\" alt=\"Open In Colab\"/></a>"
      ]
    },
    {
      "cell_type": "code",
      "execution_count": 38,
      "metadata": {
        "colab": {
          "base_uri": "https://localhost:8080/"
        },
        "id": "4J-1PwJ0nbh7",
        "outputId": "f5e6c7ce-7e01-4da3-b4bf-3e1446c657c1"
      },
      "outputs": [
        {
          "output_type": "stream",
          "name": "stdout",
          "text": [
            "5 desenvolver, implantar e gerenciar aplicativos em uma plataforma de nuvem da microsoft. azure\n"
          ]
        }
      ],
      "source": [
        "import requests, random\n",
        "url = \"https://raw.githubusercontent.com/guilhermeonrails/api-imersao-ia/main/words.json\"\n",
        "\n",
        "\n",
        "resposta = requests.get(url)\n",
        "data = resposta.json()\n",
        "type(data)\n",
        "data[0]\n",
        "data[len(data)-1]\n",
        "data[-1]\n",
        "palavra_secreta=random.choice(data)\n",
        "palavra_secreta[\"palavra\"]\n",
        "palavra_secreta[\"dica\"]\n",
        "print(len(palavra_secreta[\"palavra\"]), palavra_secreta[\"dica\"], palavra_secreta[\"palavra\"])\n"
      ]
    }
  ]
}